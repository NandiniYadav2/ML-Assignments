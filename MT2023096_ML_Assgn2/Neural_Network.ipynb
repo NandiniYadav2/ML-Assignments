{
  "nbformat": 4,
  "nbformat_minor": 0,
  "metadata": {
    "colab": {
      "provenance": []
    },
    "kernelspec": {
      "name": "python3",
      "display_name": "Python 3"
    },
    "language_info": {
      "name": "python"
    }
  },
  "cells": [
    {
      "cell_type": "code",
      "execution_count": null,
      "metadata": {
        "id": "xDQj7Z4Y_qVa"
      },
      "outputs": [],
      "source": [
        "import numpy as np\n",
        "import pandas as pd\n",
        "import matplotlib.pyplot as plt\n",
        "from sklearn.impute import SimpleImputer"
      ]
    },
    {
      "cell_type": "code",
      "source": [
        "dataf = pd.read_csv('ques2.csv' , on_bad_lines='skip')"
      ],
      "metadata": {
        "id": "Yu8CAKxDB9iu"
      },
      "execution_count": null,
      "outputs": []
    },
    {
      "cell_type": "markdown",
      "source": [
        "**Step 1: Define the neural network architecture:**"
      ],
      "metadata": {
        "id": "EuLabxmyC0nx"
      }
    },
    {
      "cell_type": "code",
      "source": [
        "\n",
        "dataf.shape"
      ],
      "metadata": {
        "colab": {
          "base_uri": "https://localhost:8080/"
        },
        "id": "49XxfoWUCnnl",
        "outputId": "10d98b2f-0fb9-45a3-eca3-29a2469b2495"
      },
      "execution_count": null,
      "outputs": [
        {
          "output_type": "execute_result",
          "data": {
            "text/plain": [
              "(14620, 23)"
            ]
          },
          "metadata": {},
          "execution_count": 207
        }
      ]
    },
    {
      "cell_type": "code",
      "source": [
        "\n",
        "imputer = SimpleImputer(strategy='mean')\n",
        "\n",
        "df = pd.DataFrame(imputer.fit_transform(dataf), columns=dataf.columns)"
      ],
      "metadata": {
        "id": "g9OrvMxZUzFu"
      },
      "execution_count": null,
      "outputs": []
    },
    {
      "cell_type": "code",
      "source": [
        "df=df.dropna(subset = ['Price','id','Date','waterfront present','number of views','Renovation Year','Lattitude','Longitude','living_area_renov','lot_area_renov','Postal Code','Built Year','condition of the house','Area of the basement','Number of schools nearby','Distance from the airport'])"
      ],
      "metadata": {
        "id": "kW0xtf4JU8Ya"
      },
      "execution_count": null,
      "outputs": []
    },
    {
      "cell_type": "code",
      "source": [
        "features = df.drop(columns=['Price','id','Date','waterfront present','number of views','Renovation Year','Lattitude','Longitude','living_area_renov','lot_area_renov','Postal Code','Built Year','condition of the house','Area of the basement','Number of schools nearby','Distance from the airport'])\n",
        "target = df['Price']\n",
        "\n",
        "# Convert features and target to numpy arrays\n",
        "X = features.values\n",
        "y = target.values.reshape(-1, 1)\n",
        "df.head()"
      ],
      "metadata": {
        "colab": {
          "base_uri": "https://localhost:8080/",
          "height": 308
        },
        "id": "Mfg_2bS-EK9G",
        "outputId": "d4b0e142-617a-42a7-e527-025b43df1bb6"
      },
      "execution_count": null,
      "outputs": [
        {
          "output_type": "execute_result",
          "data": {
            "text/plain": [
              "             id     Date  number of bedrooms  number of bathrooms  \\\n",
              "0  6.762810e+09  42491.0                 5.0                 2.50   \n",
              "1  6.762811e+09  42491.0                 4.0                 2.50   \n",
              "2  6.762811e+09  42491.0                 5.0                 2.75   \n",
              "3  6.762813e+09  42491.0                 4.0                 2.50   \n",
              "4  6.762813e+09  42491.0                 3.0                 2.00   \n",
              "\n",
              "   living area  lot area  number of floors  waterfront present  \\\n",
              "0       3650.0    9050.0               2.0                 0.0   \n",
              "1       2920.0    4000.0               1.5                 0.0   \n",
              "2       2910.0    9480.0               1.5                 0.0   \n",
              "3       3310.0   42998.0               2.0                 0.0   \n",
              "4       2710.0    4500.0               1.5                 0.0   \n",
              "\n",
              "   number of views  condition of the house  ...  Built Year  Renovation Year  \\\n",
              "0              4.0                     5.0  ...      1921.0              0.0   \n",
              "1              0.0                     5.0  ...      1909.0              0.0   \n",
              "2              0.0                     3.0  ...      1939.0              0.0   \n",
              "3              0.0                     3.0  ...      2001.0              0.0   \n",
              "4              0.0                     4.0  ...      1929.0              0.0   \n",
              "\n",
              "   Postal Code  Lattitude  Longitude  living_area_renov  lot_area_renov  \\\n",
              "0     122003.0    52.8645   -114.557             2880.0          5400.0   \n",
              "1     122004.0    52.8878   -114.470             2470.0          4000.0   \n",
              "2     122004.0    52.8852   -114.468             2940.0          6600.0   \n",
              "3     122005.0    52.9532   -114.321             3350.0         42847.0   \n",
              "4     122006.0    52.9047   -114.485             2060.0          4500.0   \n",
              "\n",
              "   Number of schools nearby  Distance from the airport      Price  \n",
              "0                       2.0                       58.0  2380000.0  \n",
              "1                       2.0                       51.0  1400000.0  \n",
              "2                       1.0                       53.0  1200000.0  \n",
              "3                       3.0                       76.0   838000.0  \n",
              "4                       1.0                       51.0   805000.0  \n",
              "\n",
              "[5 rows x 23 columns]"
            ],
            "text/html": [
              "\n",
              "  <div id=\"df-3a52eee3-40f1-40e7-9264-ce5a573bcc4a\" class=\"colab-df-container\">\n",
              "    <div>\n",
              "<style scoped>\n",
              "    .dataframe tbody tr th:only-of-type {\n",
              "        vertical-align: middle;\n",
              "    }\n",
              "\n",
              "    .dataframe tbody tr th {\n",
              "        vertical-align: top;\n",
              "    }\n",
              "\n",
              "    .dataframe thead th {\n",
              "        text-align: right;\n",
              "    }\n",
              "</style>\n",
              "<table border=\"1\" class=\"dataframe\">\n",
              "  <thead>\n",
              "    <tr style=\"text-align: right;\">\n",
              "      <th></th>\n",
              "      <th>id</th>\n",
              "      <th>Date</th>\n",
              "      <th>number of bedrooms</th>\n",
              "      <th>number of bathrooms</th>\n",
              "      <th>living area</th>\n",
              "      <th>lot area</th>\n",
              "      <th>number of floors</th>\n",
              "      <th>waterfront present</th>\n",
              "      <th>number of views</th>\n",
              "      <th>condition of the house</th>\n",
              "      <th>...</th>\n",
              "      <th>Built Year</th>\n",
              "      <th>Renovation Year</th>\n",
              "      <th>Postal Code</th>\n",
              "      <th>Lattitude</th>\n",
              "      <th>Longitude</th>\n",
              "      <th>living_area_renov</th>\n",
              "      <th>lot_area_renov</th>\n",
              "      <th>Number of schools nearby</th>\n",
              "      <th>Distance from the airport</th>\n",
              "      <th>Price</th>\n",
              "    </tr>\n",
              "  </thead>\n",
              "  <tbody>\n",
              "    <tr>\n",
              "      <th>0</th>\n",
              "      <td>6.762810e+09</td>\n",
              "      <td>42491.0</td>\n",
              "      <td>5.0</td>\n",
              "      <td>2.50</td>\n",
              "      <td>3650.0</td>\n",
              "      <td>9050.0</td>\n",
              "      <td>2.0</td>\n",
              "      <td>0.0</td>\n",
              "      <td>4.0</td>\n",
              "      <td>5.0</td>\n",
              "      <td>...</td>\n",
              "      <td>1921.0</td>\n",
              "      <td>0.0</td>\n",
              "      <td>122003.0</td>\n",
              "      <td>52.8645</td>\n",
              "      <td>-114.557</td>\n",
              "      <td>2880.0</td>\n",
              "      <td>5400.0</td>\n",
              "      <td>2.0</td>\n",
              "      <td>58.0</td>\n",
              "      <td>2380000.0</td>\n",
              "    </tr>\n",
              "    <tr>\n",
              "      <th>1</th>\n",
              "      <td>6.762811e+09</td>\n",
              "      <td>42491.0</td>\n",
              "      <td>4.0</td>\n",
              "      <td>2.50</td>\n",
              "      <td>2920.0</td>\n",
              "      <td>4000.0</td>\n",
              "      <td>1.5</td>\n",
              "      <td>0.0</td>\n",
              "      <td>0.0</td>\n",
              "      <td>5.0</td>\n",
              "      <td>...</td>\n",
              "      <td>1909.0</td>\n",
              "      <td>0.0</td>\n",
              "      <td>122004.0</td>\n",
              "      <td>52.8878</td>\n",
              "      <td>-114.470</td>\n",
              "      <td>2470.0</td>\n",
              "      <td>4000.0</td>\n",
              "      <td>2.0</td>\n",
              "      <td>51.0</td>\n",
              "      <td>1400000.0</td>\n",
              "    </tr>\n",
              "    <tr>\n",
              "      <th>2</th>\n",
              "      <td>6.762811e+09</td>\n",
              "      <td>42491.0</td>\n",
              "      <td>5.0</td>\n",
              "      <td>2.75</td>\n",
              "      <td>2910.0</td>\n",
              "      <td>9480.0</td>\n",
              "      <td>1.5</td>\n",
              "      <td>0.0</td>\n",
              "      <td>0.0</td>\n",
              "      <td>3.0</td>\n",
              "      <td>...</td>\n",
              "      <td>1939.0</td>\n",
              "      <td>0.0</td>\n",
              "      <td>122004.0</td>\n",
              "      <td>52.8852</td>\n",
              "      <td>-114.468</td>\n",
              "      <td>2940.0</td>\n",
              "      <td>6600.0</td>\n",
              "      <td>1.0</td>\n",
              "      <td>53.0</td>\n",
              "      <td>1200000.0</td>\n",
              "    </tr>\n",
              "    <tr>\n",
              "      <th>3</th>\n",
              "      <td>6.762813e+09</td>\n",
              "      <td>42491.0</td>\n",
              "      <td>4.0</td>\n",
              "      <td>2.50</td>\n",
              "      <td>3310.0</td>\n",
              "      <td>42998.0</td>\n",
              "      <td>2.0</td>\n",
              "      <td>0.0</td>\n",
              "      <td>0.0</td>\n",
              "      <td>3.0</td>\n",
              "      <td>...</td>\n",
              "      <td>2001.0</td>\n",
              "      <td>0.0</td>\n",
              "      <td>122005.0</td>\n",
              "      <td>52.9532</td>\n",
              "      <td>-114.321</td>\n",
              "      <td>3350.0</td>\n",
              "      <td>42847.0</td>\n",
              "      <td>3.0</td>\n",
              "      <td>76.0</td>\n",
              "      <td>838000.0</td>\n",
              "    </tr>\n",
              "    <tr>\n",
              "      <th>4</th>\n",
              "      <td>6.762813e+09</td>\n",
              "      <td>42491.0</td>\n",
              "      <td>3.0</td>\n",
              "      <td>2.00</td>\n",
              "      <td>2710.0</td>\n",
              "      <td>4500.0</td>\n",
              "      <td>1.5</td>\n",
              "      <td>0.0</td>\n",
              "      <td>0.0</td>\n",
              "      <td>4.0</td>\n",
              "      <td>...</td>\n",
              "      <td>1929.0</td>\n",
              "      <td>0.0</td>\n",
              "      <td>122006.0</td>\n",
              "      <td>52.9047</td>\n",
              "      <td>-114.485</td>\n",
              "      <td>2060.0</td>\n",
              "      <td>4500.0</td>\n",
              "      <td>1.0</td>\n",
              "      <td>51.0</td>\n",
              "      <td>805000.0</td>\n",
              "    </tr>\n",
              "  </tbody>\n",
              "</table>\n",
              "<p>5 rows × 23 columns</p>\n",
              "</div>\n",
              "    <div class=\"colab-df-buttons\">\n",
              "\n",
              "  <div class=\"colab-df-container\">\n",
              "    <button class=\"colab-df-convert\" onclick=\"convertToInteractive('df-3a52eee3-40f1-40e7-9264-ce5a573bcc4a')\"\n",
              "            title=\"Convert this dataframe to an interactive table.\"\n",
              "            style=\"display:none;\">\n",
              "\n",
              "  <svg xmlns=\"http://www.w3.org/2000/svg\" height=\"24px\" viewBox=\"0 -960 960 960\">\n",
              "    <path d=\"M120-120v-720h720v720H120Zm60-500h600v-160H180v160Zm220 220h160v-160H400v160Zm0 220h160v-160H400v160ZM180-400h160v-160H180v160Zm440 0h160v-160H620v160ZM180-180h160v-160H180v160Zm440 0h160v-160H620v160Z\"/>\n",
              "  </svg>\n",
              "    </button>\n",
              "\n",
              "  <style>\n",
              "    .colab-df-container {\n",
              "      display:flex;\n",
              "      gap: 12px;\n",
              "    }\n",
              "\n",
              "    .colab-df-convert {\n",
              "      background-color: #E8F0FE;\n",
              "      border: none;\n",
              "      border-radius: 50%;\n",
              "      cursor: pointer;\n",
              "      display: none;\n",
              "      fill: #1967D2;\n",
              "      height: 32px;\n",
              "      padding: 0 0 0 0;\n",
              "      width: 32px;\n",
              "    }\n",
              "\n",
              "    .colab-df-convert:hover {\n",
              "      background-color: #E2EBFA;\n",
              "      box-shadow: 0px 1px 2px rgba(60, 64, 67, 0.3), 0px 1px 3px 1px rgba(60, 64, 67, 0.15);\n",
              "      fill: #174EA6;\n",
              "    }\n",
              "\n",
              "    .colab-df-buttons div {\n",
              "      margin-bottom: 4px;\n",
              "    }\n",
              "\n",
              "    [theme=dark] .colab-df-convert {\n",
              "      background-color: #3B4455;\n",
              "      fill: #D2E3FC;\n",
              "    }\n",
              "\n",
              "    [theme=dark] .colab-df-convert:hover {\n",
              "      background-color: #434B5C;\n",
              "      box-shadow: 0px 1px 3px 1px rgba(0, 0, 0, 0.15);\n",
              "      filter: drop-shadow(0px 1px 2px rgba(0, 0, 0, 0.3));\n",
              "      fill: #FFFFFF;\n",
              "    }\n",
              "  </style>\n",
              "\n",
              "    <script>\n",
              "      const buttonEl =\n",
              "        document.querySelector('#df-3a52eee3-40f1-40e7-9264-ce5a573bcc4a button.colab-df-convert');\n",
              "      buttonEl.style.display =\n",
              "        google.colab.kernel.accessAllowed ? 'block' : 'none';\n",
              "\n",
              "      async function convertToInteractive(key) {\n",
              "        const element = document.querySelector('#df-3a52eee3-40f1-40e7-9264-ce5a573bcc4a');\n",
              "        const dataTable =\n",
              "          await google.colab.kernel.invokeFunction('convertToInteractive',\n",
              "                                                    [key], {});\n",
              "        if (!dataTable) return;\n",
              "\n",
              "        const docLinkHtml = 'Like what you see? Visit the ' +\n",
              "          '<a target=\"_blank\" href=https://colab.research.google.com/notebooks/data_table.ipynb>data table notebook</a>'\n",
              "          + ' to learn more about interactive tables.';\n",
              "        element.innerHTML = '';\n",
              "        dataTable['output_type'] = 'display_data';\n",
              "        await google.colab.output.renderOutput(dataTable, element);\n",
              "        const docLink = document.createElement('div');\n",
              "        docLink.innerHTML = docLinkHtml;\n",
              "        element.appendChild(docLink);\n",
              "      }\n",
              "    </script>\n",
              "  </div>\n",
              "\n",
              "\n",
              "<div id=\"df-3c7ae045-26d8-4a0d-87f2-44a1d585be07\">\n",
              "  <button class=\"colab-df-quickchart\" onclick=\"quickchart('df-3c7ae045-26d8-4a0d-87f2-44a1d585be07')\"\n",
              "            title=\"Suggest charts\"\n",
              "            style=\"display:none;\">\n",
              "\n",
              "<svg xmlns=\"http://www.w3.org/2000/svg\" height=\"24px\"viewBox=\"0 0 24 24\"\n",
              "     width=\"24px\">\n",
              "    <g>\n",
              "        <path d=\"M19 3H5c-1.1 0-2 .9-2 2v14c0 1.1.9 2 2 2h14c1.1 0 2-.9 2-2V5c0-1.1-.9-2-2-2zM9 17H7v-7h2v7zm4 0h-2V7h2v10zm4 0h-2v-4h2v4z\"/>\n",
              "    </g>\n",
              "</svg>\n",
              "  </button>\n",
              "\n",
              "<style>\n",
              "  .colab-df-quickchart {\n",
              "      --bg-color: #E8F0FE;\n",
              "      --fill-color: #1967D2;\n",
              "      --hover-bg-color: #E2EBFA;\n",
              "      --hover-fill-color: #174EA6;\n",
              "      --disabled-fill-color: #AAA;\n",
              "      --disabled-bg-color: #DDD;\n",
              "  }\n",
              "\n",
              "  [theme=dark] .colab-df-quickchart {\n",
              "      --bg-color: #3B4455;\n",
              "      --fill-color: #D2E3FC;\n",
              "      --hover-bg-color: #434B5C;\n",
              "      --hover-fill-color: #FFFFFF;\n",
              "      --disabled-bg-color: #3B4455;\n",
              "      --disabled-fill-color: #666;\n",
              "  }\n",
              "\n",
              "  .colab-df-quickchart {\n",
              "    background-color: var(--bg-color);\n",
              "    border: none;\n",
              "    border-radius: 50%;\n",
              "    cursor: pointer;\n",
              "    display: none;\n",
              "    fill: var(--fill-color);\n",
              "    height: 32px;\n",
              "    padding: 0;\n",
              "    width: 32px;\n",
              "  }\n",
              "\n",
              "  .colab-df-quickchart:hover {\n",
              "    background-color: var(--hover-bg-color);\n",
              "    box-shadow: 0 1px 2px rgba(60, 64, 67, 0.3), 0 1px 3px 1px rgba(60, 64, 67, 0.15);\n",
              "    fill: var(--button-hover-fill-color);\n",
              "  }\n",
              "\n",
              "  .colab-df-quickchart-complete:disabled,\n",
              "  .colab-df-quickchart-complete:disabled:hover {\n",
              "    background-color: var(--disabled-bg-color);\n",
              "    fill: var(--disabled-fill-color);\n",
              "    box-shadow: none;\n",
              "  }\n",
              "\n",
              "  .colab-df-spinner {\n",
              "    border: 2px solid var(--fill-color);\n",
              "    border-color: transparent;\n",
              "    border-bottom-color: var(--fill-color);\n",
              "    animation:\n",
              "      spin 1s steps(1) infinite;\n",
              "  }\n",
              "\n",
              "  @keyframes spin {\n",
              "    0% {\n",
              "      border-color: transparent;\n",
              "      border-bottom-color: var(--fill-color);\n",
              "      border-left-color: var(--fill-color);\n",
              "    }\n",
              "    20% {\n",
              "      border-color: transparent;\n",
              "      border-left-color: var(--fill-color);\n",
              "      border-top-color: var(--fill-color);\n",
              "    }\n",
              "    30% {\n",
              "      border-color: transparent;\n",
              "      border-left-color: var(--fill-color);\n",
              "      border-top-color: var(--fill-color);\n",
              "      border-right-color: var(--fill-color);\n",
              "    }\n",
              "    40% {\n",
              "      border-color: transparent;\n",
              "      border-right-color: var(--fill-color);\n",
              "      border-top-color: var(--fill-color);\n",
              "    }\n",
              "    60% {\n",
              "      border-color: transparent;\n",
              "      border-right-color: var(--fill-color);\n",
              "    }\n",
              "    80% {\n",
              "      border-color: transparent;\n",
              "      border-right-color: var(--fill-color);\n",
              "      border-bottom-color: var(--fill-color);\n",
              "    }\n",
              "    90% {\n",
              "      border-color: transparent;\n",
              "      border-bottom-color: var(--fill-color);\n",
              "    }\n",
              "  }\n",
              "</style>\n",
              "\n",
              "  <script>\n",
              "    async function quickchart(key) {\n",
              "      const quickchartButtonEl =\n",
              "        document.querySelector('#' + key + ' button');\n",
              "      quickchartButtonEl.disabled = true;  // To prevent multiple clicks.\n",
              "      quickchartButtonEl.classList.add('colab-df-spinner');\n",
              "      try {\n",
              "        const charts = await google.colab.kernel.invokeFunction(\n",
              "            'suggestCharts', [key], {});\n",
              "      } catch (error) {\n",
              "        console.error('Error during call to suggestCharts:', error);\n",
              "      }\n",
              "      quickchartButtonEl.classList.remove('colab-df-spinner');\n",
              "      quickchartButtonEl.classList.add('colab-df-quickchart-complete');\n",
              "    }\n",
              "    (() => {\n",
              "      let quickchartButtonEl =\n",
              "        document.querySelector('#df-3c7ae045-26d8-4a0d-87f2-44a1d585be07 button');\n",
              "      quickchartButtonEl.style.display =\n",
              "        google.colab.kernel.accessAllowed ? 'block' : 'none';\n",
              "    })();\n",
              "  </script>\n",
              "</div>\n",
              "\n",
              "    </div>\n",
              "  </div>\n"
            ]
          },
          "metadata": {},
          "execution_count": 340
        }
      ]
    },
    {
      "cell_type": "code",
      "source": [
        "df=df.dropna(subset = ['Price','id','Date','waterfront present','number of views','Renovation Year','Lattitude','Longitude','living_area_renov','lot_area_renov','Postal Code','Built Year','condition of the house','Area of the basement','Number of schools nearby','Distance from the airport'])"
      ],
      "metadata": {
        "id": "_cOxJxbFux-T"
      },
      "execution_count": null,
      "outputs": []
    },
    {
      "cell_type": "code",
      "source": [
        "X.shape"
      ],
      "metadata": {
        "colab": {
          "base_uri": "https://localhost:8080/"
        },
        "id": "aqCLDCN2GzlN",
        "outputId": "55026a04-7a02-450c-cbb2-9601609430ae"
      },
      "execution_count": null,
      "outputs": [
        {
          "output_type": "execute_result",
          "data": {
            "text/plain": [
              "(14620, 7)"
            ]
          },
          "metadata": {},
          "execution_count": 344
        }
      ]
    },
    {
      "cell_type": "code",
      "source": [
        "y.shape"
      ],
      "metadata": {
        "colab": {
          "base_uri": "https://localhost:8080/"
        },
        "id": "QGcFkvvXG49T",
        "outputId": "3d83fb55-6bda-4fdf-c27f-647906645357"
      },
      "execution_count": null,
      "outputs": [
        {
          "output_type": "execute_result",
          "data": {
            "text/plain": [
              "(14620, 1)"
            ]
          },
          "metadata": {},
          "execution_count": 345
        }
      ]
    },
    {
      "cell_type": "code",
      "source": [
        "class NeuralNetwork:\n",
        "    def __init__(self, input_size, hidden_size, output_size, regularization_strength=0.01):\n",
        "        # Initialize weights and biases\n",
        "        self.weights_input_hidden = np.random.randn(input_size, hidden_size)\n",
        "        self.bias_hidden = np.zeros((1, hidden_size))\n",
        "        self.weights_hidden_output = np.random.randn(hidden_size, output_size)\n",
        "        self.bias_output = np.zeros((1, output_size))\n",
        "        self.regularization_strength = regularization_strength\n",
        "\n",
        "    def sigmoid(self, x):\n",
        "        return 1 / (1 + np.exp(-x))\n",
        "\n",
        "    def sigmoid_derivative(self, x):\n",
        "        return x * (1 - x)\n",
        "\n",
        "    def calculate_loss(self, y, y_pred):\n",
        "        # Mean Squared Error (MSE) Loss\n",
        "        mse_loss = np.mean((y - y_pred) ** 2)\n",
        "\n",
        "        # L2 Regularization Loss\n",
        "        regularization_loss = (\n",
        "            0.5\n",
        "            * self.regularization_strength\n",
        "            * (np.sum(self.weights_input_hidden**2) + np.sum(self.weights_hidden_output**2))\n",
        "        )\n",
        "\n",
        "        total_loss = mse_loss + regularization_loss\n",
        "        return total_loss\n",
        "\n",
        "    def forward(self, X):\n",
        "        # Forward pass\n",
        "        self.hidden_input = np.dot(X, self.weights_input_hidden) + self.bias_hidden\n",
        "        self.hidden_output = self.sigmoid(self.hidden_input)\n",
        "\n",
        "        self.final_input = np.dot(self.hidden_output, self.weights_hidden_output) + self.bias_output\n",
        "        self.final_output = self.final_input  # Linear activation for regression\n",
        "\n",
        "        return self.final_output\n",
        "\n",
        "    def backward(self, X, y, learning_rate):\n",
        "        # Backward pass\n",
        "        error = y - self.final_output\n",
        "\n",
        "        # Calculate gradients\n",
        "        output_delta = error\n",
        "        hidden_error = output_delta.dot(self.weights_hidden_output.T)\n",
        "        hidden_delta = hidden_error * self.sigmoid_derivative(self.hidden_output)\n",
        "\n",
        "        # Update weights and biases\n",
        "        self.weights_hidden_output += (\n",
        "            self.hidden_output.T.dot(output_delta) + self.regularization_strength * self.weights_hidden_output\n",
        "        ) * learning_rate\n",
        "        self.bias_output += np.sum(output_delta, axis=0, keepdims=True) * learning_rate\n",
        "        self.weights_input_hidden += (\n",
        "            X.T.dot(hidden_delta) + self.regularization_strength * self.weights_input_hidden\n",
        "        ) * learning_rate\n",
        "        self.bias_hidden += np.sum(hidden_delta, axis=0, keepdims=True) * learning_rate\n",
        "\n",
        "    def train(self, X, y, epochs, learning_rate):\n",
        "        for epoch in range(epochs):\n",
        "            # Forward and backward pass for each epoch\n",
        "            self.forward(X)\n",
        "            self.backward(X, y, learning_rate)\n",
        "            # Calculate and print the loss at regular intervals\n",
        "            if epoch % 100 == 0:\n",
        "                predictions = self.forward(X)\n",
        "                loss = self.calculate_loss(y, predictions)\n",
        "                print(f\"Epoch {epoch}, Loss: {loss}\")\n",
        "\n",
        "\n"
      ],
      "metadata": {
        "id": "49tVYbUAr3w3"
      },
      "execution_count": null,
      "outputs": []
    },
    {
      "cell_type": "markdown",
      "source": [
        "Defining Hyperparameters:"
      ],
      "metadata": {
        "id": "538KxM5mJ9Py"
      }
    },
    {
      "cell_type": "code",
      "source": [
        "input_size = X.shape[1]  # in neural network, each feature is considered an input node in the input layer.\n",
        "hidden_size = 3 # neurons in the hidden layer of the neural network\n",
        "output_size = 1 # 1 for regression, as we are predicting a single continuous value.In classification it is set to = no of classes."
      ],
      "metadata": {
        "id": "m03yJ_FtHjoP"
      },
      "execution_count": null,
      "outputs": []
    },
    {
      "cell_type": "markdown",
      "source": [
        "Initializing Neural Network:"
      ],
      "metadata": {
        "id": "6S0ce-HaJ2pu"
      }
    },
    {
      "cell_type": "code",
      "source": [
        "neuralnet = NeuralNetwork(input_size, hidden_size, output_size,regularization_strength=0.000000001)"
      ],
      "metadata": {
        "id": "2fxLWTd1Jh4m"
      },
      "execution_count": null,
      "outputs": []
    },
    {
      "cell_type": "code",
      "source": [
        "from sklearn.model_selection import train_test_split\n",
        "\n",
        "\n",
        "# Split the dataset into training and testing sets\n",
        "X_traini, X_testi, y_train, y_testi = train_test_split(X, y, test_size=0.2, random_state=42)\n"
      ],
      "metadata": {
        "id": "UbVbb_8JKERV"
      },
      "execution_count": null,
      "outputs": []
    },
    {
      "cell_type": "code",
      "source": [
        "print(\"Number of features in the training set:\", X_traini.shape[1])\n",
        "\n",
        "# Print the number of features in the test set\n",
        "print(\"Number of features in the test set:\", X_testi.shape[1])"
      ],
      "metadata": {
        "colab": {
          "base_uri": "https://localhost:8080/"
        },
        "id": "LxBpHE2WaKUO",
        "outputId": "2052673f-d8a0-4856-bade-2fedd80e9c36"
      },
      "execution_count": null,
      "outputs": [
        {
          "output_type": "stream",
          "name": "stdout",
          "text": [
            "Number of features in the training set: 7\n",
            "Number of features in the test set: 7\n"
          ]
        }
      ]
    },
    {
      "cell_type": "code",
      "source": [
        "\n",
        "imputer = SimpleImputer(strategy='mean')\n",
        "\n",
        "# Fit and transform the imputer on X_testi\n",
        "X_testii = imputer.fit_transform(X_testi)\n",
        "y_test = imputer.fit_transform(y_testi)\n",
        "\n",
        "\n"
      ],
      "metadata": {
        "id": "2EqDVcrtY8q5"
      },
      "execution_count": null,
      "outputs": []
    },
    {
      "cell_type": "code",
      "source": [
        "from sklearn.preprocessing import StandardScaler\n",
        "\n",
        "# Create a scaler\n",
        "scaler = StandardScaler()\n",
        "\n",
        "# Fit and transform the scaler on your training data\n",
        "X_train= scaler.fit_transform(X_traini)\n",
        "\n",
        "# Transform your test data using the same scaler\n",
        "X_test = scaler.transform(X_testii)\n"
      ],
      "metadata": {
        "id": "DIZLDnf1lPyV"
      },
      "execution_count": null,
      "outputs": []
    },
    {
      "cell_type": "code",
      "source": [
        "print(\"Neural network input size:\", neuralnet.weights_input_hidden.shape[0])\n",
        "\n",
        "\n",
        "\n"
      ],
      "metadata": {
        "colab": {
          "base_uri": "https://localhost:8080/"
        },
        "id": "IT9DNrbifIEH",
        "outputId": "dec0335c-19f7-40d9-90d1-758144ad9daa"
      },
      "execution_count": null,
      "outputs": [
        {
          "output_type": "stream",
          "name": "stdout",
          "text": [
            "Neural network input size: 7\n"
          ]
        }
      ]
    },
    {
      "cell_type": "code",
      "source": [
        "# Training\n",
        "epochs = 1000000000\n",
        "learning_rate = 0.000000001\n",
        "\n",
        "neuralnet.train(X_train, y_train, epochs, learning_rate)"
      ],
      "metadata": {
        "colab": {
          "base_uri": "https://localhost:8080/",
          "height": 1000
        },
        "id": "lYzJZH0iK8L7",
        "outputId": "850c00eb-5ed2-4d5b-d370-9e17898ebc3d"
      },
      "execution_count": null,
      "outputs": [
        {
          "output_type": "stream",
          "name": "stdout",
          "text": [
            "Epoch 0, Loss: 422799916533.87604\n",
            "Epoch 100, Loss: 420121199152.0689\n",
            "Epoch 200, Loss: 417452740042.4695\n",
            "Epoch 300, Loss: 414809132646.0131\n",
            "Epoch 400, Loss: 412190146041.81604\n",
            "Epoch 500, Loss: 409595551010.68634\n",
            "Epoch 600, Loss: 407025120407.34515\n",
            "Epoch 700, Loss: 404478629187.55945\n",
            "Epoch 800, Loss: 401955854398.42285\n",
            "Epoch 900, Loss: 399456575161.6904\n",
            "Epoch 1000, Loss: 396980572655.4379\n",
            "Epoch 1100, Loss: 394527630095.31\n",
            "Epoch 1200, Loss: 392097532715.7235\n",
            "Epoch 1300, Loss: 389690067751.1582\n",
            "Epoch 1400, Loss: 387305024417.57715\n",
            "Epoch 1500, Loss: 384942193894.0011\n",
            "Epoch 1600, Loss: 382601369304.2431\n",
            "Epoch 1700, Loss: 380282345698.80566\n",
            "Epoch 1800, Loss: 377984920036.94525\n",
            "Epoch 1900, Loss: 375708891168.8989\n",
            "Epoch 2000, Loss: 373454059818.2772\n",
            "Epoch 2100, Loss: 371220228564.6185\n",
            "Epoch 2200, Loss: 369007201826.10645\n",
            "Epoch 2300, Loss: 366814785842.44696\n",
            "Epoch 2400, Loss: 364642788657.90454\n",
            "Epoch 2500, Loss: 362491020104.4973\n",
            "Epoch 2600, Loss: 360359291785.3467\n",
            "Epoch 2700, Loss: 358247417058.1832\n",
            "Epoch 2800, Loss: 356155211019.00604\n",
            "Epoch 2900, Loss: 354082490485.89343\n",
            "Epoch 3000, Loss: 352029073982.9653\n",
            "Epoch 3100, Loss: 349994781724.4936\n",
            "Epoch 3200, Loss: 347979435599.16223\n",
            "Epoch 3300, Loss: 345982859154.4723\n",
            "Epoch 3400, Loss: 344004877581.29315\n",
            "Epoch 3500, Loss: 342045317698.5572\n",
            "Epoch 3600, Loss: 340104007938.09717\n",
            "Epoch 3700, Loss: 338180778329.6246\n",
            "Epoch 3800, Loss: 336275460485.8483\n",
            "Epoch 3900, Loss: 334387887587.73145\n",
            "Epoch 4000, Loss: 332517894369.88556\n",
            "Epoch 4100, Loss: 330665317106.1012\n",
            "Epoch 4200, Loss: 328829993595.01263\n",
            "Epoch 4300, Loss: 327011763145.8969\n",
            "Epoch 4400, Loss: 325210466564.6044\n",
            "Epoch 4500, Loss: 323425946139.6202\n",
            "Epoch 4600, Loss: 321658045628.2569\n",
            "Epoch 4700, Loss: 319906610242.97394\n",
            "Epoch 4800, Loss: 318171486637.8256\n"
          ]
        },
        {
          "output_type": "error",
          "ename": "KeyboardInterrupt",
          "evalue": "ignored",
          "traceback": [
            "\u001b[0;31m---------------------------------------------------------------------------\u001b[0m",
            "\u001b[0;31mKeyboardInterrupt\u001b[0m                         Traceback (most recent call last)",
            "\u001b[0;32m<ipython-input-433-5b85af0dd39e>\u001b[0m in \u001b[0;36m<cell line: 5>\u001b[0;34m()\u001b[0m\n\u001b[1;32m      3\u001b[0m \u001b[0mlearning_rate\u001b[0m \u001b[0;34m=\u001b[0m \u001b[0;36m0.000000001\u001b[0m\u001b[0;34m\u001b[0m\u001b[0;34m\u001b[0m\u001b[0m\n\u001b[1;32m      4\u001b[0m \u001b[0;34m\u001b[0m\u001b[0m\n\u001b[0;32m----> 5\u001b[0;31m \u001b[0mneuralnet\u001b[0m\u001b[0;34m.\u001b[0m\u001b[0mtrain\u001b[0m\u001b[0;34m(\u001b[0m\u001b[0mX_train\u001b[0m\u001b[0;34m,\u001b[0m \u001b[0my_train\u001b[0m\u001b[0;34m,\u001b[0m \u001b[0mepochs\u001b[0m\u001b[0;34m,\u001b[0m \u001b[0mlearning_rate\u001b[0m\u001b[0;34m)\u001b[0m\u001b[0;34m\u001b[0m\u001b[0;34m\u001b[0m\u001b[0m\n\u001b[0m",
            "\u001b[0;32m<ipython-input-346-0dfbdb106315>\u001b[0m in \u001b[0;36mtrain\u001b[0;34m(self, X, y, epochs, learning_rate)\u001b[0m\n\u001b[1;32m     61\u001b[0m             \u001b[0;31m# Forward and backward pass for each epoch\u001b[0m\u001b[0;34m\u001b[0m\u001b[0;34m\u001b[0m\u001b[0m\n\u001b[1;32m     62\u001b[0m             \u001b[0mself\u001b[0m\u001b[0;34m.\u001b[0m\u001b[0mforward\u001b[0m\u001b[0;34m(\u001b[0m\u001b[0mX\u001b[0m\u001b[0;34m)\u001b[0m\u001b[0;34m\u001b[0m\u001b[0;34m\u001b[0m\u001b[0m\n\u001b[0;32m---> 63\u001b[0;31m             \u001b[0mself\u001b[0m\u001b[0;34m.\u001b[0m\u001b[0mbackward\u001b[0m\u001b[0;34m(\u001b[0m\u001b[0mX\u001b[0m\u001b[0;34m,\u001b[0m \u001b[0my\u001b[0m\u001b[0;34m,\u001b[0m \u001b[0mlearning_rate\u001b[0m\u001b[0;34m)\u001b[0m\u001b[0;34m\u001b[0m\u001b[0;34m\u001b[0m\u001b[0m\n\u001b[0m\u001b[1;32m     64\u001b[0m             \u001b[0;31m# Calculate and print the loss at regular intervals\u001b[0m\u001b[0;34m\u001b[0m\u001b[0;34m\u001b[0m\u001b[0m\n\u001b[1;32m     65\u001b[0m             \u001b[0;32mif\u001b[0m \u001b[0mepoch\u001b[0m \u001b[0;34m%\u001b[0m \u001b[0;36m100\u001b[0m \u001b[0;34m==\u001b[0m \u001b[0;36m0\u001b[0m\u001b[0;34m:\u001b[0m\u001b[0;34m\u001b[0m\u001b[0;34m\u001b[0m\u001b[0m\n",
            "\u001b[0;32m<ipython-input-346-0dfbdb106315>\u001b[0m in \u001b[0;36mbackward\u001b[0;34m(self, X, y, learning_rate)\u001b[0m\n\u001b[1;32m     53\u001b[0m         \u001b[0mself\u001b[0m\u001b[0;34m.\u001b[0m\u001b[0mbias_output\u001b[0m \u001b[0;34m+=\u001b[0m \u001b[0mnp\u001b[0m\u001b[0;34m.\u001b[0m\u001b[0msum\u001b[0m\u001b[0;34m(\u001b[0m\u001b[0moutput_delta\u001b[0m\u001b[0;34m,\u001b[0m \u001b[0maxis\u001b[0m\u001b[0;34m=\u001b[0m\u001b[0;36m0\u001b[0m\u001b[0;34m,\u001b[0m \u001b[0mkeepdims\u001b[0m\u001b[0;34m=\u001b[0m\u001b[0;32mTrue\u001b[0m\u001b[0;34m)\u001b[0m \u001b[0;34m*\u001b[0m \u001b[0mlearning_rate\u001b[0m\u001b[0;34m\u001b[0m\u001b[0;34m\u001b[0m\u001b[0m\n\u001b[1;32m     54\u001b[0m         self.weights_input_hidden += (\n\u001b[0;32m---> 55\u001b[0;31m             \u001b[0mX\u001b[0m\u001b[0;34m.\u001b[0m\u001b[0mT\u001b[0m\u001b[0;34m.\u001b[0m\u001b[0mdot\u001b[0m\u001b[0;34m(\u001b[0m\u001b[0mhidden_delta\u001b[0m\u001b[0;34m)\u001b[0m \u001b[0;34m+\u001b[0m \u001b[0mself\u001b[0m\u001b[0;34m.\u001b[0m\u001b[0mregularization_strength\u001b[0m \u001b[0;34m*\u001b[0m \u001b[0mself\u001b[0m\u001b[0;34m.\u001b[0m\u001b[0mweights_input_hidden\u001b[0m\u001b[0;34m\u001b[0m\u001b[0;34m\u001b[0m\u001b[0m\n\u001b[0m\u001b[1;32m     56\u001b[0m         ) * learning_rate\n\u001b[1;32m     57\u001b[0m         \u001b[0mself\u001b[0m\u001b[0;34m.\u001b[0m\u001b[0mbias_hidden\u001b[0m \u001b[0;34m+=\u001b[0m \u001b[0mnp\u001b[0m\u001b[0;34m.\u001b[0m\u001b[0msum\u001b[0m\u001b[0;34m(\u001b[0m\u001b[0mhidden_delta\u001b[0m\u001b[0;34m,\u001b[0m \u001b[0maxis\u001b[0m\u001b[0;34m=\u001b[0m\u001b[0;36m0\u001b[0m\u001b[0;34m,\u001b[0m \u001b[0mkeepdims\u001b[0m\u001b[0;34m=\u001b[0m\u001b[0;32mTrue\u001b[0m\u001b[0;34m)\u001b[0m \u001b[0;34m*\u001b[0m \u001b[0mlearning_rate\u001b[0m\u001b[0;34m\u001b[0m\u001b[0;34m\u001b[0m\u001b[0m\n",
            "\u001b[0;31mKeyboardInterrupt\u001b[0m: "
          ]
        }
      ]
    },
    {
      "cell_type": "code",
      "source": [
        "nan_rows_X_test = X_test[np.isnan(X_test)]\n",
        "print(\"Number of NaN values in X_test:\", len(nan_rows_X_test))"
      ],
      "metadata": {
        "colab": {
          "base_uri": "https://localhost:8080/"
        },
        "id": "da_WLpcah9Yl",
        "outputId": "11e6eae7-a395-4348-cadd-93920cce2770"
      },
      "execution_count": null,
      "outputs": [
        {
          "output_type": "stream",
          "name": "stdout",
          "text": [
            "Number of NaN values in X_test: 0\n"
          ]
        }
      ]
    },
    {
      "cell_type": "code",
      "source": [
        "# Make predictions\n",
        "predictions = neuralnet.forward(X_test)"
      ],
      "metadata": {
        "id": "0AZFIsD2LdlS"
      },
      "execution_count": null,
      "outputs": []
    },
    {
      "cell_type": "code",
      "source": [
        "predictions.shape\n"
      ],
      "metadata": {
        "colab": {
          "base_uri": "https://localhost:8080/"
        },
        "id": "pPGiFzZzgQPI",
        "outputId": "7120a8e5-31b5-44ed-d4c0-6d1c0a1ad41d"
      },
      "execution_count": null,
      "outputs": [
        {
          "output_type": "execute_result",
          "data": {
            "text/plain": [
              "(2924, 1)"
            ]
          },
          "metadata": {},
          "execution_count": 291
        }
      ]
    },
    {
      "cell_type": "code",
      "source": [
        "y_test.shape"
      ],
      "metadata": {
        "colab": {
          "base_uri": "https://localhost:8080/"
        },
        "id": "Xv4mKjDKggER",
        "outputId": "75565e13-f405-493a-fcdb-be211268b6ec"
      },
      "execution_count": null,
      "outputs": [
        {
          "output_type": "execute_result",
          "data": {
            "text/plain": [
              "(2924, 1)"
            ]
          },
          "metadata": {},
          "execution_count": 319
        }
      ]
    },
    {
      "cell_type": "code",
      "source": [
        "nan_rows_y_test = y_test[np.isnan(y_test)]\n",
        "print(\"Number of NaN values in y_test:\", len(nan_rows_y_test))\n"
      ],
      "metadata": {
        "colab": {
          "base_uri": "https://localhost:8080/"
        },
        "id": "durAD3ThhKz5",
        "outputId": "6aac6cf4-852d-4733-99ba-d6c5ee004ff1"
      },
      "execution_count": null,
      "outputs": [
        {
          "output_type": "stream",
          "name": "stdout",
          "text": [
            "Number of NaN values in y_test: 0\n"
          ]
        }
      ]
    },
    {
      "cell_type": "code",
      "source": [
        "nan_rows_predictions = predictions[np.isnan(predictions)]\n",
        "print(\"Number of NaN values in y_test:\", len(nan_rows_predictions))\n"
      ],
      "metadata": {
        "colab": {
          "base_uri": "https://localhost:8080/"
        },
        "id": "_FHG6_mChOdp",
        "outputId": "c51d6be8-de10-41df-cb32-3866afee9ab9"
      },
      "execution_count": null,
      "outputs": [
        {
          "output_type": "stream",
          "name": "stdout",
          "text": [
            "Number of NaN values in y_test: 0\n"
          ]
        }
      ]
    },
    {
      "cell_type": "code",
      "source": [
        "from sklearn.metrics import mean_squared_error, r2_score\n",
        "\n",
        "# Mean Squared Error (MSE)\n",
        "mse = mean_squared_error(y_test, predictions)\n",
        "print(\"Mean Squared Error (MSE):\", mse)\n",
        "\n",
        "# R-squared (R²)\n",
        "r2 = r2_score(y_test, predictions)\n",
        "print(\"R-squared (R²):\", r2)\n"
      ],
      "metadata": {
        "colab": {
          "base_uri": "https://localhost:8080/"
        },
        "id": "XODHQqKyLw2k",
        "outputId": "27860bf2-0e37-4a12-8a8a-09e1a02b75da"
      },
      "execution_count": null,
      "outputs": [
        {
          "output_type": "stream",
          "name": "stdout",
          "text": [
            "Mean Squared Error (MSE): 436341192035.8225\n",
            "R-squared (R²): -2.0963982559608207\n"
          ]
        }
      ]
    }
  ]
}